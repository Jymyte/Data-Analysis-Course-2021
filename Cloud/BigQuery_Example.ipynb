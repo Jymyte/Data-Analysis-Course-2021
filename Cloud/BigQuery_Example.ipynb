{
 "cells": [
  {
   "cell_type": "code",
   "execution_count": 1,
   "metadata": {},
   "outputs": [],
   "source": [
    "import pandas as pd\n",
    "projectid = 'data-analysis-'"
   ]
  },
  {
   "cell_type": "code",
   "execution_count": 2,
   "metadata": {},
   "outputs": [
    {
     "name": "stdout",
     "output_type": "stream",
     "text": [
      "Please visit this URL to authorize this application: https://accounts.google.com/o/oauth2/auth?response_type=code&client_id=725825577420-unm2gnkiprugilg743tkbig250f4sfsj.apps.googleusercontent.com&redirect_uri=urn%3Aietf%3Awg%3Aoauth%3A2.0%3Aoob&scope=https%3A%2F%2Fwww.googleapis.com%2Fauth%2Fbigquery&state=JpslV2Auptp8Q92n8NiOqjJl4AAoHh&prompt=consent&access_type=offline\n"
     ]
    }
   ],
   "source": [
    "sql = \"\"\"\n",
    "#standardSQL\n",
    "SELECT\n",
    "*\n",
    "FROM\n",
    "`bigquery-public-data.world_bank_global_population.population_by_country`\n",
    "\"\"\"\n",
    "\n",
    "data = pd.read_gbq(sql,projectid)"
   ]
  }
 ],
 "metadata": {
  "interpreter": {
   "hash": "88489fca422cae4d7819e5501ab11e4513b8610d664ee5b7e385d4f754ae3124"
  },
  "kernelspec": {
   "display_name": "Python 3.9.7 64-bit",
   "name": "python3"
  },
  "language_info": {
   "codemirror_mode": {
    "name": "ipython",
    "version": 3
   },
   "file_extension": ".py",
   "mimetype": "text/x-python",
   "name": "python",
   "nbconvert_exporter": "python",
   "pygments_lexer": "ipython3",
   "version": "3.9.7"
  },
  "orig_nbformat": 4
 },
 "nbformat": 4,
 "nbformat_minor": 2
}
