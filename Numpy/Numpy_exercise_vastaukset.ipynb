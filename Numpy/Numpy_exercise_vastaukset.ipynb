{
 "cells": [
  {
   "cell_type": "code",
   "execution_count": 4,
   "source": [
    "import numpy as np\r\n",
    "\r\n",
    "#Manual defintion of \"random\" data matrix\r\n",
    "\r\n",
    "#data = np.array([[1, 5, 3, 7],[-2, 5, 2, -6],[5, 8, 11, 0]])\r\n",
    "data= np.random.rand(3,4)\r\n",
    "print(data)"
   ],
   "outputs": [
    {
     "output_type": "stream",
     "name": "stdout",
     "text": [
      "[[0.37412853 0.45120483 0.64097275 0.70451103]\n",
      " [0.53099163 0.55707882 0.30860676 0.6861745 ]\n",
      " [0.02504089 0.98004249 0.74045536 0.01810972]]\n"
     ]
    }
   ],
   "metadata": {}
  },
  {
   "cell_type": "code",
   "execution_count": 5,
   "source": [
    "#calculate row and column averages\r\n",
    "row_mean = np.mean(data, axis = 0)\r\n",
    "print('Mean of rows (along, column,  axis 0) is ', row_mean)\r\n",
    "\r\n",
    "col_mean = np.mean(data, axis = 1)\r\n",
    "print('Mean of columns (along row,  axis 1) is ', col_mean)\r\n",
    "\r\n",
    "full_mean = np.mean(data)\r\n",
    "\r\n",
    "print('Mean of all the elements in data is ', full_mean)"
   ],
   "outputs": [
    {
     "output_type": "stream",
     "name": "stdout",
     "text": [
      "Mean of rows (along, column,  axis 0) is  [0.31005368 0.66277538 0.56334496 0.46959842]\n",
      "Mean of columns (along row,  axis 1) is  [0.54270428 0.52071293 0.44091212]\n",
      "Mean of all the elements in data is  0.5014431097492519\n"
     ]
    }
   ],
   "metadata": {}
  },
  {
   "cell_type": "code",
   "execution_count": 7,
   "source": [
    "data[2,2] =100\r\n",
    "print(data)"
   ],
   "outputs": [
    {
     "output_type": "stream",
     "name": "stdout",
     "text": [
      "[[3.74128528e-01 4.51204826e-01 6.40972752e-01 7.04511034e-01]\n",
      " [5.30991628e-01 5.57078824e-01 3.08606762e-01 6.86174496e-01]\n",
      " [2.50408919e-02 9.80042493e-01 1.00000000e+02 1.81097239e-02]]\n"
     ]
    }
   ],
   "metadata": {}
  },
  {
   "cell_type": "code",
   "execution_count": null,
   "source": [
    "#Print out one row of data matrix:\r\n",
    "print(data[0,:])"
   ],
   "outputs": [],
   "metadata": {}
  },
  {
   "cell_type": "code",
   "execution_count": null,
   "source": [
    "#Print out rows of data one-by-one\r\n",
    "\r\n",
    "for i in range(data.shape[0]):\r\n",
    "    print(data[i,:])"
   ],
   "outputs": [],
   "metadata": {}
  },
  {
   "cell_type": "code",
   "execution_count": 8,
   "source": [
    "#print out every element of matrix one-by-one\r\n",
    "for i in range(data.shape[0]):\r\n",
    "    for j in range(data.shape[1]):\r\n",
    "        print(data[i,j])"
   ],
   "outputs": [
    {
     "output_type": "stream",
     "name": "stdout",
     "text": [
      "0.37412852801669316\n",
      "0.4512048257282816\n",
      "0.6409727518028192\n",
      "0.7045110343288947\n",
      "0.5309916282030258\n",
      "0.5570788242830371\n",
      "0.3086067620874573\n",
      "0.6861744964331467\n",
      "0.025040891945259713\n",
      "0.9800424933753957\n",
      "100.0\n",
      "0.018109723932105082\n"
     ]
    }
   ],
   "metadata": {}
  }
 ],
 "metadata": {
  "orig_nbformat": 4,
  "language_info": {
   "name": "python",
   "version": "3.9.7",
   "mimetype": "text/x-python",
   "codemirror_mode": {
    "name": "ipython",
    "version": 3
   },
   "pygments_lexer": "ipython3",
   "nbconvert_exporter": "python",
   "file_extension": ".py"
  },
  "kernelspec": {
   "name": "python3",
   "display_name": "Python 3.9.7 64-bit"
  },
  "interpreter": {
   "hash": "88489fca422cae4d7819e5501ab11e4513b8610d664ee5b7e385d4f754ae3124"
  }
 },
 "nbformat": 4,
 "nbformat_minor": 2
}