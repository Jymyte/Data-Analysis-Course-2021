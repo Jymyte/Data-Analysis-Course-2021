{
 "cells": [
  {
   "cell_type": "code",
   "execution_count": 6,
   "source": [
    "import pandas as pd\r\n",
    "\r\n",
    "crime_data = pd.read_csv(\"C:\\\\Users\\\\Jyri\\\\Documents\\\\Koulu 2021\\\\SY21 Data Analysis\\\\Python\\\\Tunti 4\\\\london_crimes.csv\")\r\n",
    "#print(crime_data)"
   ],
   "outputs": [],
   "metadata": {}
  },
  {
   "cell_type": "code",
   "execution_count": 7,
   "source": [
    "print(crime_data.columns)\r\n",
    "print('_____________________________________________________')\r\n",
    "print(crime_data.info())\r\n",
    "print('_____________________________________________________')\r\n",
    "print(crime_data.shape)\r\n",
    "print(crime_data.shape[0])\r\n",
    "print(crime_data.size)\r\n",
    "print('_____________________________________________________')"
   ],
   "outputs": [
    {
     "output_type": "stream",
     "name": "stdout",
     "text": [
      "Index(['borough', 'major_category', 'minor_category', 'year',\n",
      "       'number_of_cases'],\n",
      "      dtype='object')\n",
      "_____________________________________________________\n",
      "<class 'pandas.core.frame.DataFrame'>\n",
      "RangeIndex: 9414 entries, 0 to 9413\n",
      "Data columns (total 5 columns):\n",
      " #   Column           Non-Null Count  Dtype \n",
      "---  ------           --------------  ----- \n",
      " 0   borough          9414 non-null   object\n",
      " 1   major_category   9414 non-null   object\n",
      " 2   minor_category   9414 non-null   object\n",
      " 3   year             9414 non-null   int64 \n",
      " 4   number_of_cases  9414 non-null   int64 \n",
      "dtypes: int64(2), object(3)\n",
      "memory usage: 367.9+ KB\n",
      "None\n",
      "_____________________________________________________\n",
      "(9414, 5)\n",
      "9414\n",
      "47070\n",
      "_____________________________________________________\n"
     ]
    }
   ],
   "metadata": {}
  },
  {
   "cell_type": "code",
   "execution_count": 8,
   "source": [
    "print(crime_data[0:4])\r\n",
    "crime_data.head\r\n",
    "print(crime_data[100:105])"
   ],
   "outputs": [
    {
     "output_type": "stream",
     "name": "stdout",
     "text": [
      "          borough               major_category minor_category  year  \\\n",
      "0  City of London  Violence Against the Person     Harassment  2016   \n",
      "1  City of London  Violence Against the Person     Harassment  2011   \n",
      "2  City of London  Violence Against the Person     Harassment  2014   \n",
      "3  City of London  Violence Against the Person     Harassment  2013   \n",
      "\n",
      "   number_of_cases  \n",
      "0               13  \n",
      "1                2  \n",
      "2                3  \n",
      "3                5  \n",
      "            borough               major_category       minor_category  year  \\\n",
      "100  City of London           Theft and Handling   Other Theft Person  2008   \n",
      "101  City of London           Theft and Handling   Other Theft Person  2012   \n",
      "102  City of London           Theft and Handling   Other Theft Person  2013   \n",
      "103  City of London           Theft and Handling   Other Theft Person  2009   \n",
      "104  City of London  Violence Against the Person  Assault with Injury  2011   \n",
      "\n",
      "     number_of_cases  \n",
      "100                0  \n",
      "101               41  \n",
      "102               24  \n",
      "103                0  \n",
      "104                9  \n"
     ]
    }
   ],
   "metadata": {}
  },
  {
   "cell_type": "code",
   "execution_count": 9,
   "source": [
    "print(crime_data[crime_data.shape[0] - 4 : crime_data.shape[0]])\r\n",
    "crime_data.tail"
   ],
   "outputs": [
    {
     "output_type": "stream",
     "name": "stdout",
     "text": [
      "                   borough   major_category     minor_category  year  \\\n",
      "9410        City of London          Robbery  Business Property  2011   \n",
      "9411                Bexley  Sexual Offences               Rape  2016   \n",
      "9412                Sutton  Sexual Offences               Rape  2012   \n",
      "9413  Richmond upon Thames  Sexual Offences               Rape  2012   \n",
      "\n",
      "      number_of_cases  \n",
      "9410                1  \n",
      "9411                0  \n",
      "9412                0  \n",
      "9413                0  \n"
     ]
    },
    {
     "output_type": "execute_result",
     "data": {
      "text/plain": [
       "<bound method NDFrame.tail of                    borough               major_category     minor_category  \\\n",
       "0           City of London  Violence Against the Person         Harassment   \n",
       "1           City of London  Violence Against the Person         Harassment   \n",
       "2           City of London  Violence Against the Person         Harassment   \n",
       "3           City of London  Violence Against the Person         Harassment   \n",
       "4           City of London  Violence Against the Person         Harassment   \n",
       "...                    ...                          ...                ...   \n",
       "9409        City of London                      Robbery  Business Property   \n",
       "9410        City of London                      Robbery  Business Property   \n",
       "9411                Bexley              Sexual Offences               Rape   \n",
       "9412                Sutton              Sexual Offences               Rape   \n",
       "9413  Richmond upon Thames              Sexual Offences               Rape   \n",
       "\n",
       "      year  number_of_cases  \n",
       "0     2016               13  \n",
       "1     2011                2  \n",
       "2     2014                3  \n",
       "3     2013                5  \n",
       "4     2009                0  \n",
       "...    ...              ...  \n",
       "9409  2015                0  \n",
       "9410  2011                1  \n",
       "9411  2016                0  \n",
       "9412  2012                0  \n",
       "9413  2012                0  \n",
       "\n",
       "[9414 rows x 5 columns]>"
      ]
     },
     "metadata": {},
     "execution_count": 9
    }
   ],
   "metadata": {}
  },
  {
   "cell_type": "code",
   "execution_count": 10,
   "source": [
    "#Create dataset which contains only the year and number of cases.\r\n",
    "year_and_number = crime_data[['year', 'number_of_cases']]\r\n",
    "print(year_and_number)\r\n"
   ],
   "outputs": [
    {
     "output_type": "stream",
     "name": "stdout",
     "text": [
      "      year  number_of_cases\n",
      "0     2016               13\n",
      "1     2011                2\n",
      "2     2014                3\n",
      "3     2013                5\n",
      "4     2009                0\n",
      "...    ...              ...\n",
      "9409  2015                0\n",
      "9410  2011                1\n",
      "9411  2016                0\n",
      "9412  2012                0\n",
      "9413  2012                0\n",
      "\n",
      "[9414 rows x 2 columns]\n"
     ]
    }
   ],
   "metadata": {}
  },
  {
   "cell_type": "code",
   "execution_count": 11,
   "source": [
    "#Create dataset which contains only data from 2010\r\n",
    "\r\n",
    "year_2010 = crime_data[crime_data.year == 2010]\r\n",
    "print(year_2010)"
   ],
   "outputs": [
    {
     "output_type": "stream",
     "name": "stdout",
     "text": [
      "                     borough               major_category  \\\n",
      "7             City of London  Violence Against the Person   \n",
      "14            City of London           Theft and Handling   \n",
      "21            City of London  Violence Against the Person   \n",
      "29            City of London  Violence Against the Person   \n",
      "44            City of London  Violence Against the Person   \n",
      "...                      ...                          ...   \n",
      "9364  Kensington and Chelsea           Theft and Handling   \n",
      "9373  Kensington and Chelsea           Theft and Handling   \n",
      "9387  Kensington and Chelsea              Criminal Damage   \n",
      "9393  Kensington and Chelsea              Criminal Damage   \n",
      "9400  Kensington and Chelsea           Theft and Handling   \n",
      "\n",
      "                              minor_category  year  number_of_cases  \n",
      "7                                 Harassment  2010                0  \n",
      "14                               Other Theft  2010                0  \n",
      "21                              Wounding/GBH  2010                0  \n",
      "29                            Common Assault  2010                0  \n",
      "44                            Other violence  2010                0  \n",
      "...                                      ...   ...              ...  \n",
      "9364             Theft/Taking of Pedal Cycle  2010              901  \n",
      "9373           Theft/Taking Of Motor Vehicle  2010              504  \n",
      "9387        Criminal Damage To Motor Vehicle  2010              469  \n",
      "9393       Criminal Damage To Other Building  2010              165  \n",
      "9400  Motor Vehicle Interference & Tampering  2010               40  \n",
      "\n",
      "[1046 rows x 5 columns]\n"
     ]
    }
   ],
   "metadata": {}
  },
  {
   "cell_type": "code",
   "execution_count": 12,
   "source": [
    "#What was the biggest number of cases in 2010? Which crime, category and region?\r\n",
    "\r\n",
    "crime_data[(crime_data.year == 2010)].max\r\n",
    "\r\n",
    "max_crime_index = year_2010['number_of_cases'].argmax()\r\n",
    "print(max_crime_index)\r\n",
    "\r\n",
    "year_2010.iloc[max_crime_index] "
   ],
   "outputs": [
    {
     "output_type": "stream",
     "name": "stdout",
     "text": [
      "794\n"
     ]
    },
    {
     "output_type": "execute_result",
     "data": {
      "text/plain": [
       "borough                   Westminster\n",
       "major_category     Theft and Handling\n",
       "minor_category            Other Theft\n",
       "year                             2010\n",
       "number_of_cases                 15906\n",
       "Name: 7140, dtype: object"
      ]
     },
     "metadata": {},
     "execution_count": 12
    }
   ],
   "metadata": {}
  },
  {
   "cell_type": "code",
   "execution_count": 4,
   "source": [
    "#Calculate the total number of cases per category for every year\r\n",
    "\r\n",
    "type_count = crime_data.groupby(['year', 'minor_category'])['number_of_cases'].sum()\r\n",
    "\r\n",
    "print(type_count)\r\n",
    "\r\n",
    "type_count.to_csv('London_crime_count_per_year_and_type.csv')"
   ],
   "outputs": [
    {
     "output_type": "stream",
     "name": "stdout",
     "text": [
      "year  minor_category               \n",
      "2008  Assault with Injury              56586\n",
      "      Burglary in Other Buildings      31437\n",
      "      Burglary in a Dwelling           56655\n",
      "      Business Property                 2964\n",
      "      Common Assault                   37356\n",
      "                                       ...  \n",
      "2016  Theft From Motor Vehicle         51319\n",
      "      Theft From Shops                 46957\n",
      "      Theft/Taking Of Motor Vehicle    26366\n",
      "      Theft/Taking of Pedal Cycle      18001\n",
      "      Wounding/GBH                     23525\n",
      "Name: number_of_cases, Length: 288, dtype: int64\n"
     ]
    }
   ],
   "metadata": {}
  }
 ],
 "metadata": {
  "orig_nbformat": 4,
  "language_info": {
   "name": "python",
   "version": "3.9.7",
   "mimetype": "text/x-python",
   "codemirror_mode": {
    "name": "ipython",
    "version": 3
   },
   "pygments_lexer": "ipython3",
   "nbconvert_exporter": "python",
   "file_extension": ".py"
  },
  "kernelspec": {
   "name": "python3",
   "display_name": "Python 3.9.7 64-bit"
  },
  "interpreter": {
   "hash": "88489fca422cae4d7819e5501ab11e4513b8610d664ee5b7e385d4f754ae3124"
  }
 },
 "nbformat": 4,
 "nbformat_minor": 2
}