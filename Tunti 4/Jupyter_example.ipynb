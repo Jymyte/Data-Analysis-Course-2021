{
 "cells": [
  {
   "cell_type": "code",
   "execution_count": 2,
   "source": [
    "print('hello Oulu')\r\n",
    "print('hello Finland')\r\n",
    "\r\n",
    "a = 1"
   ],
   "outputs": [
    {
     "output_type": "stream",
     "name": "stdout",
     "text": [
      "hello Oulu\n",
      "hello Finland\n"
     ]
    }
   ],
   "metadata": {}
  },
  {
   "cell_type": "code",
   "execution_count": 3,
   "source": [
    "print(a+a)\r\n",
    "\r\n",
    "print('calculate ', 1+1)"
   ],
   "outputs": [
    {
     "output_type": "stream",
     "name": "stdout",
     "text": [
      "2\n",
      "calculate  2\n"
     ]
    }
   ],
   "metadata": {}
  },
  {
   "cell_type": "markdown",
   "source": [
    "this is markdown and not part of the code"
   ],
   "metadata": {}
  }
 ],
 "metadata": {
  "orig_nbformat": 4,
  "language_info": {
   "name": "python",
   "version": "3.9.7",
   "mimetype": "text/x-python",
   "codemirror_mode": {
    "name": "ipython",
    "version": 3
   },
   "pygments_lexer": "ipython3",
   "nbconvert_exporter": "python",
   "file_extension": ".py"
  },
  "kernelspec": {
   "name": "python3",
   "display_name": "Python 3.9.7 64-bit"
  },
  "interpreter": {
   "hash": "88489fca422cae4d7819e5501ab11e4513b8610d664ee5b7e385d4f754ae3124"
  }
 },
 "nbformat": 4,
 "nbformat_minor": 2
}